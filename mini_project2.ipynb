{
  "cells": [
    {
      "cell_type": "code",
      "execution_count": null,
      "metadata": {
        "colab": {
          "base_uri": "https://localhost:8080/"
        },
        "id": "H7I2vyKaU1O7",
        "outputId": "69866752-fd43-4c7c-82c3-6a0d463471be"
      },
      "outputs": [
        {
          "output_type": "stream",
          "name": "stdout",
          "text": [
            "Collecting ColabTurtle\n",
            "  Downloading ColabTurtle-2.1.0.tar.gz (6.8 kB)\n",
            "Building wheels for collected packages: ColabTurtle\n",
            "  Building wheel for ColabTurtle (setup.py) ... \u001b[?25l\u001b[?25hdone\n",
            "  Created wheel for ColabTurtle: filename=ColabTurtle-2.1.0-py3-none-any.whl size=7657 sha256=a3301518fc459d33aa5e78fa6b24da577e31f7f303a84ea299961f56382eadc8\n",
            "  Stored in directory: /root/.cache/pip/wheels/0d/ab/65/cc4478508751448dfb4ecb20a6533082855c227dfce8c13902\n",
            "Successfully built ColabTurtle\n",
            "Installing collected packages: ColabTurtle\n",
            "Successfully installed ColabTurtle-2.1.0\n"
          ]
        }
      ],
      "source": [
        "!pip3 install ColabTurtle"
      ]
    },
    {
      "cell_type": "code",
      "execution_count": null,
      "metadata": {
        "colab": {
          "base_uri": "https://localhost:8080/",
          "height": 695
        },
        "id": "dwdLkak1U8G4",
        "outputId": "e1271bb5-6bff-403e-d0cf-78c3ad157733"
      },
      "outputs": [
        {
          "output_type": "display_data",
          "data": {
            "text/plain": [
              "<IPython.core.display.HTML object>"
            ],
            "text/html": [
              "\n",
              "      <svg width=\"800\" height=\"500\">\n",
              "        <rect width=\"100%\" height=\"100%\" fill=\"grey\"/>\n",
              "        <line x1=\"229\" y1=\"248\" x2=\"229.0\" y2=\"73.0\" stroke-linecap=\"round\" style=\"stroke:red;stroke-width:4\"/><line x1=\"229.0\" y1=\"73.0\" x2=\"55.0\" y2=\"73.0\" stroke-linecap=\"round\" style=\"stroke:red;stroke-width:4\"/><line x1=\"55.0\" y1=\"73.0\" x2=\"55.0\" y2=\"248.0\" stroke-linecap=\"round\" style=\"stroke:red;stroke-width:4\"/><line x1=\"55.0\" y1=\"248.0\" x2=\"229.0\" y2=\"248.0\" stroke-linecap=\"round\" style=\"stroke:red;stroke-width:4\"/><line x1=\"623\" y1=\"418\" x2=\"623.0\" y2=\"315.0\" stroke-linecap=\"round\" style=\"stroke:black;stroke-width:4\"/><line x1=\"623.0\" y1=\"315.0\" x2=\"501.0\" y2=\"315.0\" stroke-linecap=\"round\" style=\"stroke:black;stroke-width:4\"/><line x1=\"501.0\" y1=\"315.0\" x2=\"501.0\" y2=\"418.0\" stroke-linecap=\"round\" style=\"stroke:black;stroke-width:4\"/><line x1=\"501.0\" y1=\"418.0\" x2=\"623.0\" y2=\"418.0\" stroke-linecap=\"round\" style=\"stroke:black;stroke-width:4\"/><line x1=\"400\" y1=\"343\" x2=\"400.0\" y2=\"298.0\" stroke-linecap=\"round\" style=\"stroke:black;stroke-width:4\"/><line x1=\"400.0\" y1=\"298.0\" x2=\"279.0\" y2=\"298.0\" stroke-linecap=\"round\" style=\"stroke:black;stroke-width:4\"/><line x1=\"279.0\" y1=\"298.0\" x2=\"279.0\" y2=\"343.0\" stroke-linecap=\"round\" style=\"stroke:black;stroke-width:4\"/><line x1=\"279.0\" y1=\"343.0\" x2=\"400.0\" y2=\"343.0\" stroke-linecap=\"round\" style=\"stroke:black;stroke-width:4\"/><line x1=\"354\" y1=\"486\" x2=\"354.0\" y2=\"369.0\" stroke-linecap=\"round\" style=\"stroke:red;stroke-width:4\"/><line x1=\"354.0\" y1=\"369.0\" x2=\"272.0\" y2=\"369.0\" stroke-linecap=\"round\" style=\"stroke:red;stroke-width:4\"/><line x1=\"272.0\" y1=\"369.0\" x2=\"272.0\" y2=\"486.0\" stroke-linecap=\"round\" style=\"stroke:red;stroke-width:4\"/><line x1=\"272.0\" y1=\"486.0\" x2=\"354.0\" y2=\"486.0\" stroke-linecap=\"round\" style=\"stroke:red;stroke-width:4\"/><line x1=\"109\" y1=\"214\" x2=\"109.0\" y2=\"35.0\" stroke-linecap=\"round\" style=\"stroke:yellow;stroke-width:4\"/><line x1=\"109.0\" y1=\"35.0\" x2=\"14.0\" y2=\"35.0\" stroke-linecap=\"round\" style=\"stroke:yellow;stroke-width:4\"/><line x1=\"14.0\" y1=\"35.0\" x2=\"14.0\" y2=\"214.0\" stroke-linecap=\"round\" style=\"stroke:yellow;stroke-width:4\"/><line x1=\"14.0\" y1=\"214.0\" x2=\"109.0\" y2=\"214.0\" stroke-linecap=\"round\" style=\"stroke:yellow;stroke-width:4\"/><line x1=\"668\" y1=\"244\" x2=\"668.0\" y2=\"200.0\" stroke-linecap=\"round\" style=\"stroke:red;stroke-width:4\"/><line x1=\"668.0\" y1=\"200.0\" x2=\"527.0\" y2=\"200.0\" stroke-linecap=\"round\" style=\"stroke:red;stroke-width:4\"/><line x1=\"527.0\" y1=\"200.0\" x2=\"527.0\" y2=\"244.0\" stroke-linecap=\"round\" style=\"stroke:red;stroke-width:4\"/><line x1=\"527.0\" y1=\"244.0\" x2=\"668.0\" y2=\"244.0\" stroke-linecap=\"round\" style=\"stroke:red;stroke-width:4\"/><line x1=\"587\" y1=\"379\" x2=\"587.0\" y2=\"194.0\" stroke-linecap=\"round\" style=\"stroke:red;stroke-width:4\"/><line x1=\"587.0\" y1=\"194.0\" x2=\"560.0\" y2=\"194.0\" stroke-linecap=\"round\" style=\"stroke:red;stroke-width:4\"/><line x1=\"560.0\" y1=\"194.0\" x2=\"560.0\" y2=\"379.0\" stroke-linecap=\"round\" style=\"stroke:red;stroke-width:4\"/><line x1=\"560.0\" y1=\"379.0\" x2=\"587.0\" y2=\"379.0\" stroke-linecap=\"round\" style=\"stroke:red;stroke-width:4\"/><line x1=\"609\" y1=\"399\" x2=\"609.0\" y2=\"224.0\" stroke-linecap=\"round\" style=\"stroke:pink;stroke-width:4\"/><line x1=\"609.0\" y1=\"224.0\" x2=\"427.0\" y2=\"224.0\" stroke-linecap=\"round\" style=\"stroke:pink;stroke-width:4\"/><line x1=\"427.0\" y1=\"224.0\" x2=\"427.0\" y2=\"399.0\" stroke-linecap=\"round\" style=\"stroke:pink;stroke-width:4\"/><line x1=\"427.0\" y1=\"399.0\" x2=\"609.0\" y2=\"399.0\" stroke-linecap=\"round\" style=\"stroke:pink;stroke-width:4\"/><line x1=\"385\" y1=\"304\" x2=\"385.0\" y2=\"145.0\" stroke-linecap=\"round\" style=\"stroke:green;stroke-width:4\"/><line x1=\"385.0\" y1=\"145.0\" x2=\"198.0\" y2=\"145.0\" stroke-linecap=\"round\" style=\"stroke:green;stroke-width:4\"/><line x1=\"198.0\" y1=\"145.0\" x2=\"198.0\" y2=\"304.0\" stroke-linecap=\"round\" style=\"stroke:green;stroke-width:4\"/><line x1=\"198.0\" y1=\"304.0\" x2=\"385.0\" y2=\"304.0\" stroke-linecap=\"round\" style=\"stroke:green;stroke-width:4\"/><line x1=\"670\" y1=\"490\" x2=\"670.0\" y2=\"431.0\" stroke-linecap=\"round\" style=\"stroke:green;stroke-width:4\"/><line x1=\"670.0\" y1=\"431.0\" x2=\"599.0\" y2=\"431.0\" stroke-linecap=\"round\" style=\"stroke:green;stroke-width:4\"/><line x1=\"599.0\" y1=\"431.0\" x2=\"599.0\" y2=\"490.0\" stroke-linecap=\"round\" style=\"stroke:green;stroke-width:4\"/><line x1=\"599.0\" y1=\"490.0\" x2=\"670.0\" y2=\"490.0\" stroke-linecap=\"round\" style=\"stroke:green;stroke-width:4\"/>\n",
              "        <g visibility=visible transform=\"rotate(360,670.0,490.0) translate(652.0, 472.0)\">\n",
              "<path style=\" stroke:none;fill-rule:evenodd;fill:green;fill-opacity:1;\" d=\"M 18.214844 0.632812 C 16.109375 1.800781 15.011719 4.074219 15.074219 7.132812 L 15.085938 7.652344 L 14.785156 7.496094 C 13.476562 6.824219 11.957031 6.671875 10.40625 7.066406 C 8.46875 7.550781 6.515625 9.15625 4.394531 11.992188 C 3.0625 13.777344 2.679688 14.636719 3.042969 15.027344 L 3.15625 15.152344 L 3.519531 15.152344 C 4.238281 15.152344 4.828125 14.886719 8.1875 13.039062 C 9.386719 12.378906 10.371094 11.839844 10.378906 11.839844 C 10.386719 11.839844 10.355469 11.929688 10.304688 12.035156 C 9.832031 13.09375 9.257812 14.820312 8.96875 16.078125 C 7.914062 20.652344 8.617188 24.53125 11.070312 27.660156 C 11.351562 28.015625 11.363281 27.914062 10.972656 28.382812 C 8.925781 30.84375 7.945312 33.28125 8.238281 35.1875 C 8.289062 35.527344 8.28125 35.523438 8.917969 35.523438 C 10.941406 35.523438 13.074219 34.207031 15.136719 31.6875 C 15.359375 31.417969 15.328125 31.425781 15.5625 31.574219 C 16.292969 32.042969 18.023438 32.964844 18.175781 32.964844 C 18.335938 32.964844 19.941406 32.210938 20.828125 31.71875 C 20.996094 31.625 21.136719 31.554688 21.136719 31.558594 C 21.203125 31.664062 21.898438 32.414062 22.222656 32.730469 C 23.835938 34.300781 25.5625 35.132812 27.582031 35.300781 C 27.90625 35.328125 27.9375 35.308594 28.007812 34.984375 C 28.382812 33.242188 27.625 30.925781 25.863281 28.425781 L 25.542969 27.96875 L 25.699219 27.785156 C 28.945312 23.960938 29.132812 18.699219 26.257812 11.96875 L 26.207031 11.84375 L 27.945312 12.703125 C 31.53125 14.476562 32.316406 14.800781 33.03125 14.800781 C 33.976562 14.800781 33.78125 13.9375 32.472656 12.292969 C 28.519531 7.355469 25.394531 5.925781 21.921875 7.472656 L 21.558594 7.636719 L 21.578125 7.542969 C 21.699219 6.992188 21.761719 5.742188 21.699219 5.164062 C 21.496094 3.296875 20.664062 1.964844 19.003906 0.855469 C 18.480469 0.503906 18.457031 0.5 18.214844 0.632812\"/>\n",
              "</g>\n",
              "      </svg>\n",
              "    "
            ]
          },
          "metadata": {}
        },
        {
          "output_type": "stream",
          "name": "stdout",
          "text": [
            "สี่เหลี่ยมอันที่:1\n",
            "สี่เหลี่ยมอันที่:2\n",
            "สี่เหลี่ยมอันที่:3\n",
            "สี่เหลี่ยมอันที่:4\n",
            "สี่เหลี่ยมอันที่:5\n",
            "สี่เหลี่ยมอันที่:6\n",
            "สี่เหลี่ยมอันที่:7\n",
            "สี่เหลี่ยมอันที่:8\n",
            "สี่เหลี่ยมอันที่:9\n",
            "สี่เหลี่ยมอันที่:10\n"
          ]
        }
      ],
      "source": [
        "import ColabTurtle.Turtle as taobin\n",
        "from random import randint as rt\n",
        "from random import choice \n",
        "taobin.initializeTurtle()\n",
        "taobin.bgcolor('grey')\n",
        "for i in range(1,11):\n",
        "  color=choice(['pink','black','blue','red','yellow','green'])\n",
        "  taobin.color(color)\n",
        "  x=rt(100,700)\n",
        "  y=rt(200,500)\n",
        "  u=rt(10,200)\n",
        "  z=rt(20,200)\n",
        "  print('สี่เหลี่ยมอันที่:'+str(i))\n",
        "  taobin.penup()\n",
        "  taobin.goto(x,y)\n",
        "  taobin.pendown()\n",
        "  taobin.forward(u)\n",
        "  taobin.left(90)\n",
        "  taobin.forward(z)\n",
        "  taobin.left(90)\n",
        "  taobin.forward(u)\n",
        "  taobin.left(90)\n",
        "  taobin.forward(z)\n",
        "  taobin.left(90)"
      ]
    }
  ],
  "metadata": {
    "colab": {
      "provenance": []
    },
    "kernelspec": {
      "display_name": "Python 3",
      "name": "python3"
    },
    "language_info": {
      "name": "python"
    }
  },
  "nbformat": 4,
  "nbformat_minor": 0
}